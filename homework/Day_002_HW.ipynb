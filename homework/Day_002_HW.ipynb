{
 "cells": [
  {
   "cell_type": "markdown",
   "metadata": {},
   "source": [
    "## [作業目標]\n",
    "了解機器學習適合應用的領域與範疇。"
   ]
  },
  {
   "cell_type": "markdown",
   "metadata": {},
   "source": [
    "## [作業重點]\n",
    "透過瞭解機器學習的運作方式，找出非常適用機器學習應用的領域及其原因"
   ]
  },
  {
   "cell_type": "markdown",
   "metadata": {},
   "source": [
    "# 作業\n",
    "請找出一個你認為機器學習可以發光發熱的領域並闡述原因? "
   ]
  },
  {
   "cell_type": "code",
   "execution_count": null,
   "metadata": {},
   "outputs": [],
   "source": [
    "\"\"\"\"\n",
    "我認為遊戲業是機器學習可以很好發揮的領域。\n",
    "\n",
    "遊戲的遊玩方式主要可以分為兩種：玩家對玩家、以及玩家對 AI。\n",
    "\n",
    "在玩家對 AI 的方面，經過機器學習後的 AI 可以對於玩家在遊戲的趣味及挑戰難度上能有更好的體驗，包括：能讓 AI 的夥伴更能依照玩家的行為來做出\n",
    "相對應的合作行動、AI 的敵人也更加活靈活現，不再是一個只有單純套路的無趣機體，只能從反應速度的方面來考驗玩家，而是更有思考深度，並讓玩家能\n",
    "夠提出更多不同解答的遊戲方式。\n",
    "\n",
    "而在玩家對玩家的面向上，也有機會藉由機器學習的方式來優化玩家的操作行為，例如讓 AI 學習該玩家的操作習慣，並以此提供對應的操作輔助...等等的\n",
    "方式，來增加玩家的操作感，進一步提升玩家的遊戲體驗以及沉浸其中。\n",
    "\"\"\"\""
   ]
  }
 ],
 "metadata": {
  "kernelspec": {
   "display_name": "Python 3",
   "language": "python",
   "name": "python3"
  },
  "language_info": {
   "codemirror_mode": {
    "name": "ipython",
    "version": 3
   },
   "file_extension": ".py",
   "mimetype": "text/x-python",
   "name": "python",
   "nbconvert_exporter": "python",
   "pygments_lexer": "ipython3",
   "version": "3.7.3"
  }
 },
 "nbformat": 4,
 "nbformat_minor": 2
}
